{
 "cells": [
  {
   "cell_type": "markdown",
   "metadata": {},
   "source": [
    "# MinIO Object Storage Example\n",
    "\n",
    "This notebook demonstrates how to use MinIO object storage for ML workflows.\n",
    "\n",
    "**Prerequisites**: MinIO service running at http://sites/minio\n",
    "\n",
    "## What You'll Learn:\n",
    "- Connect to MinIO from Jupyter\n",
    "- Upload datasets and models\n",
    "- Download and load data\n",
    "- Manage experiment artifacts\n",
    "- Integrate with ML workflows"
   ]
  },
  {
   "cell_type": "markdown",
   "metadata": {},
   "source": [
    "## 1. Setup and Connection\n",
    "\n",
    "First, let's import required libraries and connect to MinIO."
   ]
  },
  {
   "cell_type": "code",
   "execution_count": null,
   "metadata": {},
   "outputs": [],
   "source": [
    "import os\n",
    "import json\n",
    "import pandas as pd\n",
    "import numpy as np\n",
    "from datetime import datetime\n",
    "from pathlib import Path\n",
    "\n",
    "# MinIO and S3 clients\n",
    "from minio import Minio\n",
    "from minio.error import S3Error\n",
    "import boto3\n",
    "from botocore.exceptions import ClientError\n",
    "\n",
    "# Load environment variables\n",
    "from dotenv import load_dotenv\n",
    "load_dotenv('../.env')\n",
    "\n",
    "print('📦 Libraries imported successfully!')"
   ]
  },
  {
   "cell_type": "code",
   "execution_count": null,
   "metadata": {},
   "outputs": [],
   "source": [
    "# MinIO connection configuration\n",
    "MINIO_ENDPOINT = os.getenv('MINIO_ENDPOINT', 'sites:80/minio-api')\n",
    "MINIO_ACCESS_KEY = os.getenv('MINIO_ACCESS_KEY', 'minioadmin')\n",
    "MINIO_SECRET_KEY = os.getenv('MINIO_SECRET_KEY', 'minioadmin123')\n",
    "MINIO_SECURE = os.getenv('MINIO_SECURE', 'false').lower() == 'true'\n",
    "\n",
    "print(f'🔗 Connecting to MinIO at: {MINIO_ENDPOINT}')\n",
    "print(f'🔒 Secure connection: {MINIO_SECURE}')"
   ]
  },
  {
   "cell_type": "code",
   "execution_count": null,
   "metadata": {},
   "outputs": [],
   "source": [
    "# Create MinIO client\n",
    "minio_client = Minio(\n",
    "    endpoint=MINIO_ENDPOINT,\n",
    "    access_key=MINIO_ACCESS_KEY,\n",
    "    secret_key=MINIO_SECRET_KEY,\n",
    "    secure=MINIO_SECURE\n",
    ")\n",
    "\n",
    "# Create boto3 client (S3-compatible)\n",
    "s3_client = boto3.client(\n",
    "    's3',\n",
    "    endpoint_url=f'http://{MINIO_ENDPOINT}',\n",
    "    aws_access_key_id=MINIO_ACCESS_KEY,\n",
    "    aws_secret_access_key=MINIO_SECRET_KEY\n",
    ")\n",
    "\n",
    "print('✅ MinIO clients created successfully!')"
   ]
  },
  {
   "cell_type": "markdown",
   "metadata": {},
   "source": [
    "## 2. List Available Buckets\n",
    "\n",
    "Let's see what buckets are available in our MinIO instance."
   ]
  },
  {
   "cell_type": "code",
   "execution_count": null,
   "metadata": {},
   "outputs": [],
   "source": [
    "# List all buckets\n",
    "try:\n",
    "    buckets = minio_client.list_buckets()\n",
    "    print('📁 Available buckets:')\n",
    "    for bucket in buckets:\n",
    "        print(f'  • {bucket.name} (created: {bucket.creation_date})')\n",
    "except S3Error as e:\n",
    "    print(f'❌ Error listing buckets: {e}')"
   ]
  },
  {
   "cell_type": "markdown",
   "metadata": {},
   "source": [
    "## 3. Create Sample Dataset\n",
    "\n",
    "Let's create a sample dataset and upload it to MinIO."
   ]
  },
  {
   "cell_type": "code",
   "execution_count": null,
   "metadata": {},
   "outputs": [],
   "source": [
    "# Create sample dataset\n",
    "np.random.seed(42)\n",
    "sample_data = {\n",
    "    'feature_1': np.random.randn(1000),\n",
    "    'feature_2': np.random.randn(1000),\n",
    "    'feature_3': np.random.randn(1000),\n",
    "    'target': np.random.choice([0, 1], 1000)\n",
    "}\n",
    "\n",
    "df = pd.DataFrame(sample_data)\n",
    "print('📊 Sample dataset created:')\n",
    "print(f'Shape: {df.shape}')\n",
    "print(f'Columns: {list(df.columns)}')\n",
    "df.head()"
   ]
  },
  {
   "cell_type": "code",
   "execution_count": null,
   "metadata": {},
   "outputs": [],
   "source": [
    "# Save dataset locally first\n",
    "dataset_file = '../data/sample_dataset.csv'\n",
    "df.to_csv(dataset_file, index=False)\n",
    "print(f'💾 Dataset saved locally: {dataset_file}')\n",
    "\n",
    "# Get file size\n",
    "file_size = os.path.getsize(dataset_file)\n",
    "print(f'📏 File size: {file_size / 1024:.2f} KB')"
   ]
  },
  {
   "cell_type": "markdown",
   "metadata": {},
   "source": [
    "## 4. Upload Dataset to MinIO\n",
    "\n",
    "Now let's upload our dataset to the 'datasets' bucket."
   ]
  },
  {
   "cell_type": "code",
   "execution_count": null,
   "metadata": {},
   "outputs": [],
   "source": [
    "# Upload dataset to MinIO\n",
    "bucket_name = 'datasets'\n",
    "object_name = 'sample_dataset.csv'\n",
    "\n",
    "try:\n",
    "    # Upload file\n",
    "    minio_client.fput_object(\n",
    "        bucket_name=bucket_name,\n",
    "        object_name=object_name,\n",
    "        file_path=dataset_file\n",
    "    )\n",
    "    print(f'✅ Dataset uploaded successfully to {bucket_name}/{object_name}')\n",
    "except S3Error as e:\n",
    "    print(f'❌ Error uploading dataset: {e}')"
   ]
  },
  {
   "cell_type": "markdown",
   "metadata": {},
   "source": [
    "## 5. List Objects in Bucket\n",
    "\n",
    "Let's see what's in our datasets bucket now."
   ]
  },
  {
   "cell_type": "code",
   "execution_count": null,
   "metadata": {},
   "outputs": [],
   "source": [
    "# List objects in datasets bucket\n",
    "try:\n",
    "    objects = minio_client.list_objects(bucket_name, recursive=True)\n",
    "    print(f'📋 Objects in {bucket_name} bucket:')\n",
    "    \n",
    "    total_size = 0\n",
    "    for obj in objects:\n",
    "        size_kb = obj.size / 1024\n",
    "        total_size += obj.size\n",
    "        print(f'  • {obj.object_name} ({size_kb:.2f} KB, {obj.last_modified})')\n",
    "    \n",
    "    print(f'\n📊 Total size: {total_size / 1024:.2f} KB')\n",
    "except S3Error as e:\n",
    "    print(f'❌ Error listing objects: {e}')"
   ]
  },
  {
   "cell_type": "markdown",
   "metadata": {},
   "source": [
    "## 6. Download and Load Dataset\n",
    "\n",
    "Let's download the dataset from MinIO and load it back into a DataFrame."
   ]
  },
  {
   "cell_type": "code",
   "execution_count": null,
   "metadata": {},
   "outputs": [],
   "source": [
    "# Download dataset from MinIO\n",
    "downloaded_file = '../data/downloaded_dataset.csv'\n",
    "\n",
    "try:\n",
    "    minio_client.fget_object(\n",
    "        bucket_name=bucket_name,\n",
    "        object_name=object_name,\n",
    "        file_path=downloaded_file\n",
    "    )\n",
    "    print(f'✅ Dataset downloaded to: {downloaded_file}')\n",
    "    \n",
    "    # Load downloaded dataset\n",
    "    df_downloaded = pd.read_csv(downloaded_file)\n",
    "    print(f'📊 Downloaded dataset shape: {df_downloaded.shape}')\n",
    "    \n",
    "    # Verify data integrity\n",
    "    if df.equals(df_downloaded):\n",
    "        print('✅ Data integrity verified - datasets match!')\n",
    "    else:\n",
    "        print('⚠️ Data integrity check failed - datasets differ')\n",
    "        \n",
    "except S3Error as e:\n",
    "    print(f'❌ Error downloading dataset: {e}')"
   ]
  },
  {
   "cell_type": "markdown",
   "metadata": {},
   "source": [
    "## 7. Train a Simple Model\n",
    "\n",
    "Let's train a simple model and save it to MinIO."
   ]
  },
  {
   "cell_type": "code",
   "execution_count": null,
   "metadata": {},
   "outputs": [],
   "source": [
    "from sklearn.model_selection import train_test_split\n",
    "from sklearn.ensemble import RandomForestClassifier\n",
    "from sklearn.metrics import accuracy_score, classification_report\n",
    "import joblib\n",
    "\n",
    "# Prepare data\n",
    "X = df[['feature_1', 'feature_2', 'feature_3']]\n",
    "y = df['target']\n",
    "\n",
    "X_train, X_test, y_train, y_test = train_test_split(\n",
    "    X, y, test_size=0.2, random_state=42\n",
    ")\n",
    "\n",
    "print(f'🎯 Training set size: {X_train.shape[0]}')\n",
    "print(f'🎯 Test set size: {X_test.shape[0]}')"
   ]
  },
  {
   "cell_type": "code",
   "execution_count": null,
   "metadata": {},
   "outputs": [],
   "source": [
    "# Train model\n",
    "model = RandomForestClassifier(n_estimators=100, random_state=42)\n",
    "model.fit(X_train, y_train)\n",
    "\n",
    "# Make predictions\n",
    "y_pred = model.predict(X_test)\n",
    "accuracy = accuracy_score(y_test, y_pred)\n",
    "\n",
    "print(f'🎯 Model accuracy: {accuracy:.4f}')\n",
    "print('\n📊 Classification Report:')\n",
    "print(classification_report(y_test, y_pred))"
   ]
  },
  {
   "cell_type": "markdown",
   "metadata": {},
   "source": [
    "## 8. Save Model to MinIO\n",
    "\n",
    "Now let's save our trained model to the 'models' bucket."
   ]
  },
  {
   "cell_type": "code",
   "execution_count": null,
   "metadata": {},
   "outputs": [],
   "source": [
    "# Save model locally first\n",
    "model_file = '../models/random_forest_model.pkl'\n",
    "os.makedirs('../models', exist_ok=True)\n",
    "\n",
    "joblib.dump(model, model_file)\n",
    "print(f'💾 Model saved locally: {model_file}')\n",
    "\n",
    "# Upload model to MinIO\n",
    "model_bucket = 'models'\n",
    "model_object = f'random_forest_model_{datetime.now().strftime(\"%Y%m%d_%H%M%S\")}.pkl'\n",
    "\n",
    "try:\n",
    "    minio_client.fput_object(\n",
    "        bucket_name=model_bucket,\n",
    "        object_name=model_object,\n",
    "        file_path=model_file\n",
    "    )\n",
    "    print(f'✅ Model uploaded to {model_bucket}/{model_object}')\n",
    "except S3Error as e:\n",
    "    print(f'❌ Error uploading model: {e}')"
   ]
  },
  {
   "cell_type": "markdown",
   "metadata": {},
   "source": [
    "## 9. Save Experiment Results\n",
    "\n",
    "Let's save experiment metadata to the 'experiments' bucket."
   ]
  },
  {
   "cell_type": "code",
   "execution_count": null,
   "metadata": {},
   "outputs": [],
   "source": [
    "# Create experiment results\n",
    "experiment_results = {\n",
    "    'experiment_id': f'exp_{datetime.now().strftime(\"%Y%m%d_%H%M%S\")}',\n",
    "    'timestamp': datetime.now().isoformat(),\n",
    "    'model_type': 'RandomForestClassifier',\n",
    "    'parameters': {\n",
    "        'n_estimators': 100,\n",
    "        'random_state': 42\n",
    "    },\n",
    "    'metrics': {\n",
    "        'accuracy': float(accuracy),\n",
    "        'train_size': len(X_train),\n",
    "        'test_size': len(X_test)\n",
    "    },\n",
    "    'dataset': 'sample_dataset.csv',\n",
    "    'model_file': model_object\n",
    "}\n",
    "\n",
    "print('📋 Experiment results:')\n",
    "print(json.dumps(experiment_results, indent=2))"
   ]
  },
  {
   "cell_type": "code",
   "execution_count": null,
   "metadata": {},
   "outputs": [],
   "source": [
    "# Save experiment results\n",
    "results_file = '../data/experiment_results.json'\n",
    "\n",
    "with open(results_file, 'w') as f:\n",
    "    json.dump(experiment_results, f, indent=2)\n",
    "\n",
    "# Upload to MinIO\n",
    "experiments_bucket = 'experiments'\n",
    "results_object = f\"experiment_{experiment_results['experiment_id']}.json\"\n",
    "\n",
    "try:\n",
    "    minio_client.fput_object(\n",
    "        bucket_name=experiments_bucket,\n",
    "        object_name=results_object,\n",
    "        file_path=results_file\n",
    "    )\n",
    "    print(f'✅ Experiment results uploaded to {experiments_bucket}/{results_object}')\n",
    "except S3Error as e:\n",
    "    print(f'❌ Error uploading results: {e}')"
   ]
  },
  {
   "cell_type": "markdown",
   "metadata": {},
   "source": [
    "## 10. Load Model from MinIO\n",
    "\n",
    "Finally, let's demonstrate loading a model back from MinIO."
   ]
  },
  {
   "cell_type": "code",
   "execution_count": null,
   "metadata": {},
   "outputs": [],
   "source": [
    "# List available models\n",
    "print('🤖 Available models in MinIO:')\n",
    "\n",
    "try:\n",
    "    model_objects = minio_client.list_objects(model_bucket, recursive=True)\n",
    "    model_list = []\n",
    "    \n",
    "    for obj in model_objects:\n",
    "        model_list.append(obj.object_name)\n",
    "        size_kb = obj.size / 1024\n",
    "        print(f'  • {obj.object_name} ({size_kb:.2f} KB)')\n",
    "        \n",
    "except S3Error as e:\n",
    "    print(f'❌ Error listing models: {e}')\n",
    "    model_list = []"
   ]
  },
  {
   "cell_type": "code",
   "execution_count": null,
   "metadata": {},
   "outputs": [],
   "source": [
    "# Download and load the latest model\n",
    "if model_list:\n",
    "    latest_model = sorted(model_list)[-1]  # Get latest by name\n",
    "    downloaded_model_file = '../models/downloaded_model.pkl'\n",
    "    \n",
    "    try:\n",
    "        minio_client.fget_object(\n",
    "            bucket_name=model_bucket,\n",
    "            object_name=latest_model,\n",
    "            file_path=downloaded_model_file\n",
    "        )\n",
    "        \n",
    "        # Load the model\n",
    "        loaded_model = joblib.load(downloaded_model_file)\n",
    "        \n",
    "        print(f'✅ Model loaded from MinIO: {latest_model}')\n",
    "        \n",
    "        # Test the loaded model\n",
    "        test_predictions = loaded_model.predict(X_test[:5])\n",
    "        print(f'🧪 Test predictions: {test_predictions}')\n",
    "        \n",
    "        # Verify model equivalence\n",
    "        original_pred = model.predict(X_test[:5])\n",
    "        if np.array_equal(test_predictions, original_pred):\n",
    "            print('✅ Model integrity verified - predictions match!')\n",
    "        else:\n",
    "            print('⚠️ Model integrity check failed')\n",
    "            \n",
    "    except S3Error as e:\n",
    "        print(f'❌ Error loading model: {e}')\n",
    "else:\n",
    "    print('❌ No models found in MinIO')"
   ]
  },
  {
   "cell_type": "markdown",
   "metadata": {},
   "source": [
    "## 11. Generate Presigned URLs\n",
    "\n",
    "Create shareable URLs for accessing objects without credentials."
   ]
  },
  {
   "cell_type": "code",
   "execution_count": null,
   "metadata": {},
   "outputs": [],
   "source": [
    "from datetime import timedelta\n",
    "\n",
    "# Generate presigned URL for dataset (valid for 1 hour)\n",
    "try:\n",
    "    dataset_url = minio_client.presigned_get_object(\n",
    "        bucket_name=bucket_name,\n",
    "        object_name=object_name,\n",
    "        expires=timedelta(hours=1)\n",
    "    )\n",
    "    \n",
    "    print('🔗 Presigned URLs (valid for 1 hour):')\n",
    "    print(f'📊 Dataset: {dataset_url[:100]}...')\n",
    "    \n",
    "    if model_list:\n",
    "        model_url = minio_client.presigned_get_object(\n",
    "            bucket_name=model_bucket,\n",
    "            object_name=latest_model,\n",
    "            expires=timedelta(hours=1)\n",
    "        )\n",
    "        print(f'🤖 Model: {model_url[:100]}...')\n",
    "        \n",
    "except S3Error as e:\n",
    "    print(f'❌ Error generating presigned URLs: {e}')"
   ]
  },
  {
   "cell_type": "markdown",
   "metadata": {},
   "source": [
    "## 🎉 Summary\n",
    "\n",
    "In this notebook, we demonstrated:\n",
    "\n",
    "✅ **Connected** to MinIO object storage\n",
    "✅ **Uploaded** datasets and models\n",
    "✅ **Downloaded** and verified data integrity\n",
    "✅ **Trained** and stored ML models\n",
    "✅ **Saved** experiment metadata\n",
    "✅ **Generated** presigned URLs for sharing\n",
    "\n",
    "### Next Steps:\n",
    "- Integrate MinIO with your ML pipeline\n",
    "- Set up automated model versioning\n",
    "- Configure bucket policies for team access\n",
    "- Implement data lifecycle management\n",
    "\n",
    "### MinIO Console:\n",
    "Visit http://sites/minio to explore your data visually!"
   ]
  }
 ],
 "metadata": {
  "kernelspec": {
   "display_name": "Python 3",
   "language": "python",
   "name": "python3"
  },
  "language_info": {
   "codemirror_mode": {
    "name": "ipython",
    "version": 3
   },
   "file_extension": ".py",
   "mimetype": "text/x-python",
   "name": "python",
   "nbconvert_exporter": "python",
   "pygments_lexer": "ipython3",
   "version": "3.11.0"
  }
 },
 "nbformat": 4,
 "nbformat_minor": 4
}

